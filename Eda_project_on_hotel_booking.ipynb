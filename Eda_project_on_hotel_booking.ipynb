{
  "cells": [
    {
      "cell_type": "markdown",
      "metadata": {
        "id": "view-in-github",
        "colab_type": "text"
      },
      "source": [
        "<a href=\"https://colab.research.google.com/github/Vaishnavi-Devi-N/Hotel-Booking-Analysis/blob/main/Eda_project_on_hotel_booking.ipynb\" target=\"_parent\"><img src=\"https://colab.research.google.com/assets/colab-badge.svg\" alt=\"Open In Colab\"/></a>"
      ]
    },
    {
      "cell_type": "code",
      "execution_count": 2,
      "metadata": {
        "id": "l_vUSac6Lpc6"
      },
      "outputs": [],
      "source": [
        "import pandas as pd\n",
        "import numpy as np"
      ]
    },
    {
      "cell_type": "code",
      "source": [
        "from google.colab import drive\n",
        "drive.mount('/content/drive')"
      ],
      "metadata": {
        "colab": {
          "base_uri": "https://localhost:8080/"
        },
        "id": "usOI8NmDRywi",
        "outputId": "57846005-76fd-4b0b-fb4c-8ab3da07c381"
      },
      "execution_count": 4,
      "outputs": [
        {
          "output_type": "stream",
          "name": "stdout",
          "text": [
            "Mounted at /content/drive\n"
          ]
        }
      ]
    },
    {
      "cell_type": "code",
      "source": [
        "file_path_1 = "
      ],
      "metadata": {
        "id": "9N2tks-wIvmY"
      },
      "execution_count": null,
      "outputs": []
    },
    {
      "cell_type": "code",
      "execution_count": 5,
      "metadata": {
        "id": "00-yKTftL1zo"
      },
      "outputs": [],
      "source": [
        "file_path = '/content/drive/MyDrive/Almabetter/CSV of pandas projects /Hotel_Bookings.csv'\n",
        "data = pd.read_csv(file_path)"
      ]
    },
    {
      "cell_type": "markdown",
      "metadata": {
        "id": "06gDHEPGbHeK"
      },
      "source": [
        "Step 1: Remove duplicate or irrelevant observations. Remove unwanted observations from your dataset, including duplicate observations or irrelevant observations. ...\n",
        "\n",
        "Step 2: Fix structural errors. ...\n",
        "\n",
        "Step 3: Filter unwanted outliers. ...\n",
        "\n",
        "Step 4: Handle missing data. ...\n",
        "\n",
        "Step 5: Validate and QA."
      ]
    },
    {
      "cell_type": "code",
      "execution_count": null,
      "metadata": {
        "id": "QMUCXPTVWDkL"
      },
      "outputs": [],
      "source": [
        "duplicate_data = pd.read_csv(file_path)"
      ]
    },
    {
      "cell_type": "code",
      "execution_count": null,
      "metadata": {
        "colab": {
          "base_uri": "https://localhost:8080/"
        },
        "id": "jotxSqG7QwJq",
        "outputId": "9ae8ff23-8d0b-461e-a223-9c7832704c58"
      },
      "outputs": [
        {
          "output_type": "execute_result",
          "data": {
            "text/plain": [
              "company                           13679\n",
              "agent                              2512\n",
              "country                             438\n",
              "is_repeated_guest                     1\n",
              "previous_cancellations                1\n",
              "reservation_status                    1\n",
              "total_of_special_requests             1\n",
              "required_car_parking_spaces           1\n",
              "adr                                   1\n",
              "customer_type                         1\n",
              "days_in_waiting_list                  1\n",
              "deposit_type                          1\n",
              "booking_changes                       1\n",
              "assigned_room_type                    1\n",
              "reserved_room_type                    1\n",
              "previous_bookings_not_canceled        1\n",
              "reservation_status_date               1\n",
              "distribution_channel                  1\n",
              "market_segment                        1\n",
              "meal                                  1\n",
              "babies                                1\n",
              "children                              1\n",
              "adults                                1\n",
              "is_canceled                           0\n",
              "stays_in_week_nights                  0\n",
              "stays_in_weekend_nights               0\n",
              "arrival_date_day_of_month             0\n",
              "arrival_date_week_number              0\n",
              "arrival_date_month                    0\n",
              "arrival_date_year                     0\n",
              "lead_time                             0\n",
              "hotel                                 0\n",
              "dtype: int64"
            ]
          },
          "metadata": {},
          "execution_count": 6
        }
      ],
      "source": [
        "data.isna().sum().sort_values(ascending = False)"
      ]
    },
    {
      "cell_type": "markdown",
      "metadata": {
        "id": "9GkxTjtvYohU"
      },
      "source": [
        "**Handling duplicate**"
      ]
    },
    {
      "cell_type": "code",
      "execution_count": null,
      "metadata": {
        "colab": {
          "base_uri": "https://localhost:8080/"
        },
        "id": "GKLssAGxYSRs",
        "outputId": "bbe65094-59b0-4981-e384-19757127eba0"
      },
      "outputs": [
        {
          "output_type": "execute_result",
          "data": {
            "text/plain": [
              "False    11468\n",
              "True      3216\n",
              "dtype: int64"
            ]
          },
          "metadata": {},
          "execution_count": 7
        }
      ],
      "source": [
        "data.duplicated().value_counts()"
      ]
    },
    {
      "cell_type": "code",
      "execution_count": null,
      "metadata": {
        "colab": {
          "base_uri": "https://localhost:8080/"
        },
        "id": "CpES-FaeZ8BO",
        "outputId": "8fd06624-c502-422f-c6e8-132a05dbfcae"
      },
      "outputs": [
        {
          "output_type": "execute_result",
          "data": {
            "text/plain": [
              "(14684, 32)"
            ]
          },
          "metadata": {},
          "execution_count": 8
        }
      ],
      "source": [
        "data.shape"
      ]
    },
    {
      "cell_type": "code",
      "execution_count": null,
      "metadata": {
        "id": "qxg4_7joZsyR"
      },
      "outputs": [],
      "source": [
        "data.drop_duplicates(inplace = True)"
      ]
    },
    {
      "cell_type": "code",
      "execution_count": null,
      "metadata": {
        "colab": {
          "base_uri": "https://localhost:8080/"
        },
        "id": "kQ1dtdNCaQXf",
        "outputId": "a84ee2b6-fbce-4e3d-ed59-f93a977d527f"
      },
      "outputs": [
        {
          "output_type": "execute_result",
          "data": {
            "text/plain": [
              "(11468, 32)"
            ]
          },
          "metadata": {},
          "execution_count": 10
        }
      ],
      "source": [
        "data.shape"
      ]
    },
    {
      "cell_type": "code",
      "execution_count": null,
      "metadata": {
        "colab": {
          "base_uri": "https://localhost:8080/"
        },
        "id": "SyVyeTwDZw2A",
        "outputId": "b700a6d3-abb4-43ae-d65d-a7a5105dcf26"
      },
      "outputs": [
        {
          "output_type": "execute_result",
          "data": {
            "text/plain": [
              "False    11468\n",
              "dtype: int64"
            ]
          },
          "metadata": {},
          "execution_count": 11
        }
      ],
      "source": [
        "data.duplicated().value_counts()"
      ]
    },
    {
      "cell_type": "markdown",
      "metadata": {
        "id": "pxdlNnN2YyMQ"
      },
      "source": [
        "**Handling null values**"
      ]
    },
    {
      "cell_type": "code",
      "execution_count": null,
      "metadata": {
        "id": "T9W9GHPNQ8MA"
      },
      "outputs": [],
      "source": [
        "data['company'].fillna('not company sponsored', inplace = True)"
      ]
    },
    {
      "cell_type": "code",
      "execution_count": null,
      "metadata": {
        "id": "XEgnS7dRXRc5"
      },
      "outputs": [],
      "source": [
        "data['country'].fillna('others', inplace = True)"
      ]
    },
    {
      "cell_type": "code",
      "execution_count": null,
      "metadata": {
        "id": "hECY7E_-XZiT"
      },
      "outputs": [],
      "source": [
        "data['children'].fillna(0, inplace = True)"
      ]
    },
    {
      "cell_type": "code",
      "execution_count": null,
      "metadata": {
        "id": "Wn8pt6wbWb4V"
      },
      "outputs": [],
      "source": [
        "data['agent'].fillna('self booking', inplace = True)"
      ]
    },
    {
      "cell_type": "code",
      "execution_count": null,
      "metadata": {
        "colab": {
          "base_uri": "https://localhost:8080/"
        },
        "id": "o01jsJV7TBTz",
        "outputId": "58365895-4ea0-4035-c0b0-6e320a147195"
      },
      "outputs": [
        {
          "output_type": "execute_result",
          "data": {
            "text/plain": [
              "hotel                             0\n",
              "is_canceled                       0\n",
              "lead_time                         0\n",
              "arrival_date_year                 0\n",
              "arrival_date_month                0\n",
              "arrival_date_week_number          0\n",
              "arrival_date_day_of_month         0\n",
              "stays_in_weekend_nights           0\n",
              "stays_in_week_nights              0\n",
              "adults                            1\n",
              "children                          0\n",
              "babies                            1\n",
              "meal                              1\n",
              "country                           0\n",
              "market_segment                    1\n",
              "distribution_channel              1\n",
              "is_repeated_guest                 1\n",
              "previous_cancellations            1\n",
              "previous_bookings_not_canceled    1\n",
              "reserved_room_type                1\n",
              "assigned_room_type                1\n",
              "booking_changes                   1\n",
              "deposit_type                      1\n",
              "agent                             0\n",
              "company                           0\n",
              "days_in_waiting_list              1\n",
              "customer_type                     1\n",
              "adr                               1\n",
              "required_car_parking_spaces       1\n",
              "total_of_special_requests         1\n",
              "reservation_status                1\n",
              "reservation_status_date           1\n",
              "dtype: int64"
            ]
          },
          "metadata": {},
          "execution_count": 16
        }
      ],
      "source": [
        "data.isnull().sum()"
      ]
    },
    {
      "cell_type": "code",
      "execution_count": null,
      "metadata": {
        "id": "zHvS9mYwTSl6"
      },
      "outputs": [],
      "source": []
    },
    {
      "cell_type": "code",
      "execution_count": null,
      "metadata": {
        "id": "YzsfREoYVvRr"
      },
      "outputs": [],
      "source": []
    },
    {
      "cell_type": "code",
      "execution_count": null,
      "metadata": {
        "colab": {
          "base_uri": "https://localhost:8080/"
        },
        "id": "DYvPq_1Rq9mi",
        "outputId": "6acdcd60-d05b-4dbc-e89b-4b268fdb378d"
      },
      "outputs": [
        {
          "output_type": "stream",
          "name": "stdout",
          "text": [
            "Mounted at /content/drive\n"
          ]
        }
      ],
      "source": []
    },
    {
      "cell_type": "code",
      "execution_count": null,
      "metadata": {
        "id": "DIER3peHq-j0"
      },
      "outputs": [],
      "source": []
    }
  ],
  "metadata": {
    "colab": {
      "provenance": [],
      "name": "Eda-project-on-hotel-booking.ipynb",
      "authorship_tag": "ABX9TyNoQkSONKufTjJagyU4GX0r",
      "include_colab_link": true
    },
    "kernelspec": {
      "display_name": "Python 3",
      "name": "python3"
    },
    "language_info": {
      "name": "python"
    }
  },
  "nbformat": 4,
  "nbformat_minor": 0
}